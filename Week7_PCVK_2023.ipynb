{
  "nbformat": 4,
  "nbformat_minor": 0,
  "metadata": {
    "colab": {
      "provenance": [],
      "authorship_tag": "ABX9TyPxmtZkDb35QXCiMLjC3MTY",
      "include_colab_link": true
    },
    "kernelspec": {
      "name": "python3",
      "display_name": "Python 3"
    },
    "language_info": {
      "name": "python"
    }
  },
  "cells": [
    {
      "cell_type": "markdown",
      "metadata": {
        "id": "view-in-github",
        "colab_type": "text"
      },
      "source": [
        "<a href=\"https://colab.research.google.com/github/Raihandany/PCVK_Ganjil_2023/blob/main/Week7_PCVK_2023.ipynb\" target=\"_parent\"><img src=\"https://colab.research.google.com/assets/colab-badge.svg\" alt=\"Open In Colab\"/></a>"
      ]
    },
    {
      "cell_type": "code",
      "execution_count": 26,
      "metadata": {
        "id": "qs7ppCN_-tNV",
        "colab": {
          "base_uri": "https://localhost:8080/"
        },
        "outputId": "beadddaa-0c95-4ced-aabd-accac359a878"
      },
      "outputs": [
        {
          "output_type": "stream",
          "name": "stdout",
          "text": [
            "Drive already mounted at /content/drive; to attempt to forcibly remount, call drive.mount(\"/content/drive\", force_remount=True).\n"
          ]
        }
      ],
      "source": [
        "from google.colab import drive\n",
        "\n",
        "drive.mount('/content/drive')"
      ]
    },
    {
      "cell_type": "code",
      "source": [
        "import numpy as np\n",
        "import matplotlib.pyplot as plt\n",
        "import cv2 as cv\n",
        "import math\n",
        "\n",
        "from google.colab.patches import cv2_imshow\n",
        "from PIL import Image as im\n"
      ],
      "metadata": {
        "id": "WjDhk105YvMC"
      },
      "execution_count": 27,
      "outputs": []
    },
    {
      "cell_type": "code",
      "source": [
        "img = cv.imread('/content/drive/MyDrive/PCVK_MM/prac_week7/mandrill.tiff')\n",
        "img_gray = cv.cvtColor(img, cv.COLOR_BGR2GRAY)"
      ],
      "metadata": {
        "id": "wTJ5cu9JZSH_"
      },
      "execution_count": 28,
      "outputs": []
    },
    {
      "cell_type": "code",
      "source": [
        "def convolution2d(image, kernel, stride, padding):\n",
        "    # Assuming image and kernel are numpy arrays\n",
        "    # Implement the convolution operation here\n",
        "    # ...\n",
        "\n",
        "    # Return the convolved image\n",
        "    return img_sharpen\n",
        "\n",
        "    kernel_sharpen = np.array([[0,-1,0], [-1,5,-1], [0,-1,0]])\n",
        "    kernel_Emboss = np.array([[-2,-1,0], [-1,1,1], [0,1,2]])\n",
        "    kernel_LSED = np.array([[1,0,-1], [2,0,-2], [1,0,-1]])\n",
        "    kernel_CED = np.array([[-1,-1,-1],[-1,8,-1],[-1,-1,-1]])\n",
        "\n",
        "    sigma=math.sqrt(kernel_size)\n",
        "    gaussian_kernel =\n",
        "    cv.getGaussianKernel(kernel_size, sigma)\n",
        "    gauss_kernel = gaussian_kernel @ gaussian_kernel.transpose()\n",
        "\n",
        "\n",
        "plt.subplot(1, 2, 2)\n",
        "plt.imshow(kernel_sharpen, cmap='gray')\n",
        "plt.title('Convolved Image')\n",
        "\n",
        "plt.show()"
      ],
      "metadata": {
        "id": "oiCcTQsyhVaM",
        "outputId": "1d131bf5-5d8d-4c11-fd66-2693dfe82439",
        "colab": {
          "base_uri": "https://localhost:8080/",
          "height": 308
        }
      },
      "execution_count": 45,
      "outputs": [
        {
          "output_type": "display_data",
          "data": {
            "text/plain": [
              "<Figure size 640x480 with 1 Axes>"
            ],
            "image/png": "[encoded data removed]"
          },
          "metadata": {}
        }
      ]
    }
  ]
}
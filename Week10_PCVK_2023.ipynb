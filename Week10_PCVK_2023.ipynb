{
  "nbformat": 4,
  "nbformat_minor": 0,
  "metadata": {
    "colab": {
      "provenance": [],
      "authorship_tag": "ABX9TyNRB2m14mCiAgkB5xyu6XFF",
      "include_colab_link": true
    },
    "kernelspec": {
      "name": "python3",
      "display_name": "Python 3"
    },
    "language_info": {
      "name": "python"
    }
  },
  "cells": [
    {
      "cell_type": "markdown",
      "metadata": {
        "id": "view-in-github",
        "colab_type": "text"
      },
      "source": [
        "<a href=\"https://colab.research.google.com/github/Raihandany/PCVK_Ganjil_2023/blob/main/Week10_PCVK_2023.ipynb\" target=\"_parent\"><img src=\"https://colab.research.google.com/assets/colab-badge.svg\" alt=\"Open In Colab\"/></a>"
      ]
    },
    {
      "cell_type": "code",
      "execution_count": null,
      "metadata": {
        "id": "vbokKpRpmqPr"
      },
      "outputs": [],
      "source": [
        "import cv2 as cv\n",
        "from google.colab.patches import cv2_imshow\n",
        "import numpy as np\n",
        "import matplotlib.pyplot as plt\n",
        "filename = ('/content/drive/MyDrive/Polinema/Kuliah/PCVK/Images/gradient.jpg')\n",
        "img = cv.imread(filename)\n",
        "thresh = 127 #nilai Threshold yang ditentukan\n",
        "#1. thresh1 jika pixel di img>127, maka thresh1 bernilai 1(putih) selain\n",
        "itu bernilai 0(hitam)\n",
        "ret,thresh1 = cv.threshold(img,thresh,255,cv.THRESH_BINARY)\n",
        "#2. thresh2 adalah binary threshold inverse\n",
        "ret,thresh2 = cv.threshold(img,thresh,255,cv.THRESH_BINARY_INV)\n",
        "#3. Threshold Truncate\n",
        "ret,thresh3 = cv.threshold(img,thresh,255,cv.THRESH_TRUNC)\n",
        "#4. Threshold Tozero\n",
        "ret,thresh4 = cv.threshold(img,thresh,255,cv.THRESH_TOZERO)\n",
        "#5. Threshold Tozero Inverse\n",
        "ret,thresh5 = cv.threshold(img,thresh,255,cv.THRESH_TOZERO_INV)\n",
        "titles = ['Original Image','BINARY','BINARY_INV','TRUNC', 'TOZERO', 'TOZERO_INV']\n",
        "images = [img, thresh1, thresh2, thresh3, thresh4, thresh5]\n",
        "plt.figure(figsize = (15,5))\n",
        "for i in range(len(images)):\n",
        " plt.subplot(2,3,i+1),plt.imshow(images[i],'gray', interpolation='nearest')\n",
        " plt.title(titles[i])\n",
        " plt.xticks([]),plt.yticks([])\n",
        "plt.show()\n"
      ]
    },
    {
      "cell_type": "code",
      "source": [
        "from google.colab import drive\n",
        "drive.mount('/content/drive')"
      ],
      "metadata": {
        "id": "FsxAUsLqqZ7g",
        "outputId": "6cc666b5-19c9-44cc-be7d-962261963302",
        "colab": {
          "base_uri": "https://localhost:8080/"
        }
      },
      "execution_count": 3,
      "outputs": [
        {
          "output_type": "stream",
          "name": "stdout",
          "text": [
            "Mounted at /content/drive\n"
          ]
        }
      ]
    },
    {
      "cell_type": "code",
      "source": [
        "import cv2\n",
        "import numpy as np\n",
        "\n",
        "!pip install pytesseract\n",
        "\n",
        "import matplotlib.pyplot as plt\n",
        "import pandas as pd\n",
        "from PIL import Image"
      ],
      "metadata": {
        "id": "nn-tOaNYqaAf",
        "outputId": "e77fb6d3-de5f-4e02-c6c6-d1b6d9027a27",
        "colab": {
          "base_uri": "https://localhost:8080/"
        }
      },
      "execution_count": 10,
      "outputs": [
        {
          "output_type": "stream",
          "name": "stdout",
          "text": [
            "Collecting pytesseract\n",
            "  Downloading pytesseract-0.3.10-py3-none-any.whl (14 kB)\n",
            "Requirement already satisfied: packaging>=21.3 in /usr/local/lib/python3.10/dist-packages (from pytesseract) (23.2)\n",
            "Requirement already satisfied: Pillow>=8.0.0 in /usr/local/lib/python3.10/dist-packages (from pytesseract) (9.4.0)\n",
            "Installing collected packages: pytesseract\n",
            "Successfully installed pytesseract-0.3.10\n"
          ]
        }
      ]
    },
    {
      "cell_type": "code",
      "source": [
        "filename = ('/content/drive/MyDrive/PCVK_MM/prac_week10/gradient.jpg')\n",
        "img = cv.imread('filename')\n",
        "thresh1 = cv.imread('filename')\n",
        "thresh2 = cv.imread('filename')\n",
        "thresh3 = cv.imread('filename')\n",
        "thresh4 = cv.imread('filename')\n",
        "thresh5 = cv.imread('filename')\n",
        "thresh = 170\n",
        "\n",
        "thresh1[img>thresh] = 255\n",
        "thresh1[img<=thresh] = 0\n",
        "\n",
        "thresh2 = 255 -thresh1\n",
        "\n",
        "thresh3[img>thresh]=thresh\n",
        "\n",
        "thresh4[img<=thresh]=0\n",
        "\n",
        "thresh5[img.>thresh]=0\n",
        "\n",
        "titles = ['Original Image','BINARY','BINARY_INV','TRUNC', 'TOZERO', 'TOZERO_INV']\n",
        "images = [img, thresh1, thresh2, thresh3, thresh4, thresh5]\n",
        "\n",
        "plt.figure(figsize = (15,5))\n",
        "for i in range(len(images)):\n",
        "  plt.subplot(2,3,i+1), plt.imshow(images[1], 'gray', interpolation='nearest')\n",
        "  plt.tiltle(titles[i])\n",
        "  plt.xticks([]),plt.yticks([])\n",
        "plt.show()"
      ],
      "metadata": {
        "id": "vrgB8sEVrBom"
      },
      "execution_count": 11,
      "outputs": []
    },
    {
      "cell_type": "code",
      "source": [
        "filename = ('/content/drive/MyDrive/PCVK_MM/prac_week10/ktp.png')\n",
        "\n",
        "img = cv.imread(filename,0)\n",
        "blur = cv.GaussianBlur(img,(5,5),0)\n"
      ],
      "metadata": {
        "id": "6Wij8S08vM6r"
      },
      "execution_count": null,
      "outputs": []
    }
  ]
}
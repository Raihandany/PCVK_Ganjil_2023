{
  "nbformat": 4,
  "nbformat_minor": 0,
  "metadata": {
    "colab": {
      "provenance": [],
      "authorship_tag": "ABX9TyPqun4YjiHXRUzPLzX+BbVj",
      "include_colab_link": true
    },
    "kernelspec": {
      "name": "python3",
      "display_name": "Python 3"
    },
    "language_info": {
      "name": "python"
    }
  },
  "cells": [
    {
      "cell_type": "markdown",
      "metadata": {
        "id": "view-in-github",
        "colab_type": "text"
      },
      "source": [
        "<a href=\"https://colab.research.google.com/github/Raihandany/PCVK_Ganjil_2023/blob/main/Week2_PCVK_2023.ipynb\" target=\"_parent\"><img src=\"https://colab.research.google.com/assets/colab-badge.svg\" alt=\"Open In Colab\"/></a>"
      ]
    },
    {
      "cell_type": "code",
      "execution_count": null,
      "metadata": {
        "id": "KMSuLU8WCyts"
      },
      "outputs": [],
      "source": [
        "from google.colab import drive\n",
        "\n",
        "# Accessing My Google Drive\n",
        "drive.mount('/content/drive')"
      ]
    },
    {
      "cell_type": "code",
      "source": [
        "import cv2 as cv\n",
        "from google.colab.patches import cv2_imshow\n",
        "from skimage import io\n",
        "\n",
        "import matplotlib.pyplot as plt\n",
        "import numpy as np\n",
        "\n",
        "img = cv.imread('')\n",
        "plt.imshow(img)"
      ],
      "metadata": {
        "id": "i9KH06UyJ1dh"
      },
      "execution_count": null,
      "outputs": []
    },
    {
      "cell_type": "code",
      "source": [
        "img2 = img\n",
        "img3 = cv.cvtColor(img, cv.COLOR_BGR2RGB)\n",
        "plt.imshow(img3)"
      ],
      "metadata": {
        "id": "npe111V_MJ7b"
      },
      "execution_count": null,
      "outputs": []
    },
    {
      "cell_type": "code",
      "source": [
        "img_gray = cv.imread('', cv.IMREAD_GRAYSCALE)\n",
        "plt.imshow(img_gray)"
      ],
      "metadata": {
        "id": "HqsvYWdmMq88"
      },
      "execution_count": null,
      "outputs": []
    },
    {
      "cell_type": "code",
      "source": [
        "plt.imshow(img_gray, cmap='gray')"
      ],
      "metadata": {
        "id": "Oc7eGWwTM-mL"
      },
      "execution_count": null,
      "outputs": []
    },
    {
      "cell_type": "code",
      "source": [
        "plt.imshow(img_gray, cmap='magma')"
      ],
      "metadata": {
        "id": "Ay3TZJAkNGLt"
      },
      "execution_count": null,
      "outputs": []
    },
    {
      "cell_type": "code",
      "source": [
        "img4 = cv.resize(cv.cvtCOLOR(img, cv.COLOR_BGR2RGB), (512, 1024))\n",
        "plt.imshow(img4)"
      ],
      "metadata": {
        "id": "6-1ujAjFNLhO"
      },
      "execution_count": null,
      "outputs": []
    },
    {
      "cell_type": "code",
      "source": [
        "img5 = cv.flip(cv.cvtCOLOR(img, cv.COLOR_BGR2RGB), 0)\n",
        "\n",
        "\n",
        "fig = plt.figure(figsize=(10,10))\n",
        "ax = fig.add_subplot(111)\n",
        "ax.imshow(img5)"
      ],
      "metadata": {
        "id": "IuAkecTgOI3K"
      },
      "execution_count": null,
      "outputs": []
    },
    {
      "cell_type": "code",
      "source": [
        "black_img = np.zeros(shape=(512,512,3), dtype=np.int16)\n",
        "plt.imshow(black_img)"
      ],
      "metadata": {
        "id": "66bP0ZgOOwdr"
      },
      "execution_count": null,
      "outputs": []
    },
    {
      "cell_type": "code",
      "source": [
        "cv.rectangle (black_img, pt1=(384,0) pt2=(510,150), color=(0,255,0), thickness=10)\n",
        "plt.imshow(black_img)"
      ],
      "metadata": {
        "id": "QXQ2IOjkPCiU"
      },
      "execution_count": null,
      "outputs": []
    },
    {
      "cell_type": "code",
      "source": [
        "cv.rectangle (black_img, pt1=(384,0) pt2=(510,150), color=(0,255,0), thickness=10)\n",
        "plt.imshow(black_img)\n",
        "\n",
        "cv.rectangle (black_img, pt1=(200,200) pt2=(300,300), color=(0,0,255), thickness=15)\n",
        "plt.imshow(black_img)"
      ],
      "metadata": {
        "id": "sTwT2zt5PoyF"
      },
      "execution_count": null,
      "outputs": []
    },
    {
      "cell_type": "code",
      "source": [
        "cv.circle (black_img, pt1=(100,100), radius=50, color=(255,0,0), thickness=8)\n",
        "plt.imshow(black_img)"
      ],
      "metadata": {
        "id": "gUsbynW3P2F7"
      },
      "execution_count": null,
      "outputs": []
    },
    {
      "cell_type": "code",
      "source": [
        "cv.line (black_img, pt1=(0,0) pt2=(512,512), radius=50, color=(255,255,255), thickness=5)\n",
        "plt.imshow(black_img)"
      ],
      "metadata": {
        "id": "lHhRCW-bQNXV"
      },
      "execution_count": null,
      "outputs": []
    },
    {
      "cell_type": "code",
      "source": [
        "font = cv.FONT_HERSHEY_SIMPLEX\n",
        "cv.putText(black_img, text='Hello', org=(10,500), fontFace=font, fontScale=4, color=(255,255,0), thickness=2, lineType=cv.LINE_AA )\n",
        "plt.imshow(black_img)"
      ],
      "metadata": {
        "id": "w4hZh10QQaGx"
      },
      "execution_count": null,
      "outputs": []
    },
    {
      "cell_type": "code",
      "source": [
        "black_img2=np.zeros(shape=(512,512,3), dtype=np.int32)\n",
        "plt.imshow(black_img2)"
      ],
      "metadata": {
        "id": "vZSPP6xiRKlJ"
      },
      "execution_count": null,
      "outputs": []
    },
    {
      "cell_type": "code",
      "source": [
        "vertices = np.array([[100,300], [200,200], [400,300], [200,400]], dtype=np.int32)\n",
        "vertices"
      ],
      "metadata": {
        "id": "pnmOEvLrRdAR"
      },
      "execution_count": null,
      "outputs": []
    },
    {
      "cell_type": "code",
      "source": [
        "pts = vertices.reshape((-1,1,2))\n",
        "pts"
      ],
      "metadata": {
        "id": "BeOsTra7R8G7"
      },
      "execution_count": null,
      "outputs": []
    },
    {
      "cell_type": "code",
      "source": [
        "cv.polylines(black_img2, [pt], isClosed=True, color=(255,0,0), thickness=5)\n",
        "plt.imshow(black_img2)"
      ],
      "metadata": {
        "id": "QxtQyz6WSLJb"
      },
      "execution_count": null,
      "outputs": []
    }
  ]
}
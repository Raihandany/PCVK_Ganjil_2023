{
  "nbformat": 4,
  "nbformat_minor": 0,
  "metadata": {
    "colab": {
      "provenance": [],
      "authorship_tag": "ABX9TyMTAAlcJK/EMWHOFN9HbqEm",
      "include_colab_link": true
    },
    "kernelspec": {
      "name": "python3",
      "display_name": "Python 3"
    },
    "language_info": {
      "name": "python"
    }
  },
  "cells": [
    {
      "cell_type": "markdown",
      "metadata": {
        "id": "view-in-github",
        "colab_type": "text"
      },
      "source": [
        "<a href=\"https://colab.research.google.com/github/Raihandany/PCVK_Ganjil_2023/blob/main/Week6_PCVK_2023.ipynb\" target=\"_parent\"><img src=\"https://colab.research.google.com/assets/colab-badge.svg\" alt=\"Open In Colab\"/></a>"
      ]
    },
    {
      "cell_type": "code",
      "execution_count": null,
      "metadata": {
        "id": "rm8SwL_tFokr",
        "outputId": "2e5f759a-6fb7-47e9-f22f-2c58a3476645",
        "colab": {
          "base_uri": "https://localhost:8080/"
        }
      },
      "outputs": [
        {
          "output_type": "stream",
          "name": "stdout",
          "text": [
            "Drive already mounted at /content/drive; to attempt to forcibly remount, call drive.mount(\"/content/drive\", force_remount=True).\n"
          ]
        }
      ],
      "source": [
        "from google.colab import drive\n",
        "\n",
        "drive.mount('/content/drive')"
      ]
    },
    {
      "cell_type": "code",
      "source": [
        "import cv2 as cv\n",
        "import matplotlib.pyplot as plt\n",
        "import numpy as np\n",
        "import math\n",
        "import os\n",
        "import glob\n",
        "\n",
        "from google.colab.patches import cv2_imshow\n",
        "from skimage import io"
      ],
      "metadata": {
        "id": "qc_oJihXL3u7"
      },
      "execution_count": null,
      "outputs": []
    },
    {
      "cell_type": "code",
      "source": [
        "original = cv.imread('/content/drive/MyDrive/PCVK_MM/prac_week6/lena.jpg')\n",
        "\n",
        "rgb_image = cv2.cvtColor(original, cv2.COLOR_BGR2RGB)\n",
        "\n",
        "# Split the RGB image into its color channels\n",
        "red_channel = rgb_image[:, :, 0]\n",
        "green_channel = rgb_image[:, :, 1]\n",
        "blue_channel = rgb_image[:, :, 2]\n",
        "\n",
        "# Calculate histograms for each color channel\n",
        "red_hist = cv2.calcHist([red_channel], [0], None, [256], [0, 256])\n",
        "green_hist = cv2.calcHist([green_channel], [0], None, [256], [0, 256])\n",
        "blue_hist = cv2.calcHist([blue_channel], [0], None, [256], [0, 256])\n",
        "\n",
        "# Plot and display the histograms\n",
        "plt.figure(figsize=(10, 6))\n",
        "plt.subplot(311)\n",
        "plt.plot(red_hist, color='red')\n",
        "plt.title('Red Channel Histogram')\n",
        "plt.xlim([0, 256])\n",
        "\n",
        "plt.subplot(312)\n",
        "plt.plot(green_hist, color='green')\n",
        "plt.title('Green Channel Histogram')\n",
        "plt.xlim([0, 256])\n",
        "\n",
        "plt.subplot(313)\n",
        "plt.plot(blue_hist, color='blue')\n",
        "plt.title('Blue Channel Histogram')\n",
        "plt.xlim([0, 256])\n",
        "\n",
        "plt.tight_layout()\n",
        "plt.show()"
      ],
      "metadata": {
        "id": "G63HTmxoMgr_",
        "outputId": "1938452e-88c4-4d8b-ecb7-a468467dae80",
        "colab": {
          "base_uri": "https://localhost:8080/",
          "height": 245
        }
      },
      "execution_count": 31,
      "outputs": [
        {
          "output_type": "error",
          "ename": "NameError",
          "evalue": "ignored",
          "traceback": [
            "\u001b[0;31m---------------------------------------------------------------------------\u001b[0m",
            "\u001b[0;31mNameError\u001b[0m                                 Traceback (most recent call last)",
            "\u001b[0;32m<ipython-input-31-d875f0ad8193>\u001b[0m in \u001b[0;36m<cell line: 3>\u001b[0;34m()\u001b[0m\n\u001b[1;32m      1\u001b[0m \u001b[0moriginal\u001b[0m \u001b[0;34m=\u001b[0m \u001b[0mcv\u001b[0m\u001b[0;34m.\u001b[0m\u001b[0mimread\u001b[0m\u001b[0;34m(\u001b[0m\u001b[0;34m'/content/drive/MyDrive/PCVK_MM/prac_week6/lena.jpg'\u001b[0m\u001b[0;34m)\u001b[0m\u001b[0;34m\u001b[0m\u001b[0;34m\u001b[0m\u001b[0m\n\u001b[1;32m      2\u001b[0m \u001b[0;34m\u001b[0m\u001b[0m\n\u001b[0;32m----> 3\u001b[0;31m \u001b[0mrgb_image\u001b[0m \u001b[0;34m=\u001b[0m \u001b[0mcv2\u001b[0m\u001b[0;34m.\u001b[0m\u001b[0mcvtColor\u001b[0m\u001b[0;34m(\u001b[0m\u001b[0moriginal\u001b[0m\u001b[0;34m,\u001b[0m \u001b[0mcv2\u001b[0m\u001b[0;34m.\u001b[0m\u001b[0mCOLOR_BGR2RGB\u001b[0m\u001b[0;34m)\u001b[0m\u001b[0;34m\u001b[0m\u001b[0;34m\u001b[0m\u001b[0m\n\u001b[0m\u001b[1;32m      4\u001b[0m \u001b[0;34m\u001b[0m\u001b[0m\n\u001b[1;32m      5\u001b[0m \u001b[0;31m# Split the RGB image into its color channels\u001b[0m\u001b[0;34m\u001b[0m\u001b[0;34m\u001b[0m\u001b[0m\n",
            "\u001b[0;31mNameError\u001b[0m: name 'cv2' is not defined"
          ]
        }
      ]
    }
  ]
}
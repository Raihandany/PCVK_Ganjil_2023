{
  "nbformat": 4,
  "nbformat_minor": 0,
  "metadata": {
    "colab": {
      "provenance": [],
      "mount_file_id": "https://github.com/Raihandany/PCVK_Ganjil_2023/blob/main/Week5_PCVK_2023.ipynb",
      "authorship_tag": "ABX9TyO+pZpkJkbvJD1oHIZnEDfg",
      "include_colab_link": true
    },
    "kernelspec": {
      "name": "python3",
      "display_name": "Python 3"
    },
    "language_info": {
      "name": "python"
    }
  },
  "cells": [
    {
      "cell_type": "markdown",
      "metadata": {
        "id": "view-in-github",
        "colab_type": "text"
      },
      "source": [
        "<a href=\"https://colab.research.google.com/github/Raihandany/PCVK_Ganjil_2023/blob/main/Week5_PCVK_2023.ipynb\" target=\"_parent\"><img src=\"https://colab.research.google.com/assets/colab-badge.svg\" alt=\"Open In Colab\"/></a>"
      ]
    },
    {
      "cell_type": "code",
      "execution_count": 9,
      "metadata": {
        "id": "tViyi9LRclRK"
      },
      "outputs": [],
      "source": [
        "import numpy as np\n",
        "import pandas as pd\n",
        "import cv2 as cv\n",
        "\n",
        "\n",
        "\n"
      ]
    },
    {
      "cell_type": "code",
      "source": [
        "print(' Gamma Correction pada citra ')\n",
        "print('----------------------------------')\n",
        "try:\n",
        "  gamma = int(input('Masukkan nilai Gamma: '))\n",
        "except ValueError:\n",
        "  print('Error, not a number')\n",
        "\n",
        "original = cv.imread('/content/drive/MyDrive/PCVK_MM/prac_week5/female.tiff')\n",
        "gamma_image = np.zeros(original.shape, original.dtype)\n",
        "\n",
        "for y in range(original.shape[0]):\n",
        "  for x in range(original.shape[1]):\n",
        "      gamma_image[y,x] = 255 * ((original[y,x] / 255) ** (1/gamma))\n",
        "\n",
        "final_frame = cv.hconcat((original, gamma_image))\n",
        "print(final_frame)"
      ],
      "metadata": {
        "id": "21Bj3a39jrSZ",
        "outputId": "747e0731-4f88-4710-ee71-f7abc45db2ec",
        "colab": {
          "base_uri": "https://localhost:8080/"
        }
      },
      "execution_count": 10,
      "outputs": [
        {
          "output_type": "stream",
          "name": "stdout",
          "text": [
            " Gamma Correction pada citra \n",
            "----------------------------------\n",
            "Masukkan nilai Gamma: 3\n",
            "[[[ 42  46  52]\n",
            "  [ 38  40  47]\n",
            "  [ 34  42  50]\n",
            "  ...\n",
            "  [206 204 207]\n",
            "  [206 207 201]\n",
            "  [203 205 201]]\n",
            "\n",
            " [[ 43  45  55]\n",
            "  [ 35  44  50]\n",
            "  [ 38  40  54]\n",
            "  ...\n",
            "  [210 208 203]\n",
            "  [208 205 203]\n",
            "  [211 209 198]]\n",
            "\n",
            " [[ 39  42  46]\n",
            "  [ 43  42  49]\n",
            "  [ 55  42  52]\n",
            "  ...\n",
            "  [205 207 201]\n",
            "  [203 204 199]\n",
            "  [202 205 197]]\n",
            "\n",
            " ...\n",
            "\n",
            " [[  5   5   4]\n",
            "  [  4   3   3]\n",
            "  [  3   3   3]\n",
            "  ...\n",
            "  [141 160 157]\n",
            "  [180 182 176]\n",
            "  [182 189 185]]\n",
            "\n",
            " [[ 10   8  11]\n",
            "  [ 12  11  12]\n",
            "  [ 10  10  12]\n",
            "  ...\n",
            "  [137 164 157]\n",
            "  [160 178 177]\n",
            "  [180 189 186]]\n",
            "\n",
            " [[ 16  18  20]\n",
            "  [ 16  16  19]\n",
            "  [ 13  14  20]\n",
            "  ...\n",
            "  [139 153 152]\n",
            "  [155 171 165]\n",
            "  [173 186 182]]]\n"
          ]
        }
      ]
    }
  ]
}